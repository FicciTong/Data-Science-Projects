{
 "cells": [
  {
   "cell_type": "markdown",
   "metadata": {},
   "source": [
    "<h1 style=\"font-size:42px; text-align:center; margin-bottom:30px;\"><span style=\"color:SteelBlue\">Module 3:</span> Principal Component Analysis</h1>\n",
    "<hr>\n",
    "\n",
    "Welcome to <span style=\"color:royalblue\">Module 3: Principal Component Analysis</span>!\n",
    "\n",
    "Principal Component Analysis, or PCA, is a popular dimensionality reduction technique.\n",
    "\n",
    "PCA seeks to create new features by finding linear combinations of your original ones. These new features, called **principal components**, are meant to maximize the **\"explained variance,\"** which we'll explain further in the module.\n",
    "\n",
    "* In this module, we'll prepare individual item features for our clustering algorithms, except this time we'll use PCA instead of thresholding.\n",
    "* PCA is especially effective when you have many correlated features.\n",
    "* Important: PCA creates new features that replace the original ones.\n",
    "\n",
    "\n",
    "<br><hr id=\"toc\">\n",
    "\n",
    "### In this module...\n",
    "\n",
    "In this module, we'll cover:\n",
    "1. [Toy example: oval blob](#oval-blob)\n",
    "2. [Principal components](#components)\n",
    "3. [Dimensionality reduction](#reduction)\n",
    "4. [Item data PCA](#item-data)\n",
    "5. [Explained variance](#explained-variance)\n",
    "\n",
    "<br><hr>"
   ]
  },
  {
   "cell_type": "markdown",
   "metadata": {},
   "source": [
    "### First, let's import libraries and load the item data.\n",
    "\n",
    "First, import libraries that you'll need."
   ]
  },
  {
   "cell_type": "code",
   "execution_count": 1,
   "metadata": {
    "collapsed": true
   },
   "outputs": [],
   "source": [
    "# print_function for compatibility with Python 3\n",
    "from __future__ import print_function\n",
    "\n",
    "# NumPy for numerical computing\n",
    "import numpy as np\n",
    "\n",
    "# Pandas for DataFrames\n",
    "import pandas as pd\n",
    "pd.set_option('display.max_columns', 100)\n",
    "\n",
    "# Matplotlib for visualization\n",
    "from matplotlib import pyplot as plt\n",
    "# display plots in the notebook\n",
    "%matplotlib inline \n",
    "\n",
    "# Seaborn for easier visualization\n",
    "import seaborn as sns\n",
    "\n",
    "# StandardScaler from Scikit-Learn\n",
    "from sklearn.preprocessing import StandardScaler\n",
    "\n",
    "# PCA from Scikit-Learn (added later)\n",
    "from sklearn.decomposition import PCA"
   ]
  },
  {
   "cell_type": "markdown",
   "metadata": {},
   "source": [
    "Next, let's import the full item data that we saved in the previous module (before applying thresholds).\n",
    "* Remember, we saved it as <code style=\"color:crimson\">'item_data.csv'</code>.\n",
    "* This time, we'll also pass in the argument <code style=\"color:steelblue\">index_col=0</code> to tell Pandas to treat the first column (CustomerID) as the index."
   ]
  },
  {
   "cell_type": "code",
   "execution_count": 2,
   "metadata": {},
   "outputs": [],
   "source": [
    "# Read item_data.csv\n",
    "item_data = pd.read_csv('item_data.csv', index_col=0)"
   ]
  },
  {
   "cell_type": "markdown",
   "metadata": {},
   "source": [
    "Just to confirm, this dataset should have 2574 features:"
   ]
  },
  {
   "cell_type": "code",
   "execution_count": 3,
   "metadata": {},
   "outputs": [
    {
     "data": {
      "text/plain": [
       "(414, 2574)"
      ]
     },
     "execution_count": 3,
     "metadata": {},
     "output_type": "execute_result"
    }
   ],
   "source": [
    "# Display item_data's shape\n",
    "item_data.shape"
   ]
  },
  {
   "cell_type": "markdown",
   "metadata": {},
   "source": [
    "<span id=\"oval-blob\"></span>\n",
    "# 1. Toy example: oval blob\n",
    "\n",
    "PCA is an elegant technique that's very practical, but it can be a bit hard to try it on our larger dataset right away.\n",
    "\n",
    "Instead, let's first use one last toy example to break down the intuition behind PCA.\n",
    "\n",
    "<br>\n",
    "**First, we'll create an \"oval blob\" synthetic dataset.**\n",
    "* Instead of both input features and a target variable, we'll only have 2 input features.\n",
    "* $x_1$ will be random samples from a normal distribution.\n",
    "* $x_2$ will be random samples from a normal distribution **plus $x_1$**."
   ]
  },
  {
   "cell_type": "code",
   "execution_count": 4,
   "metadata": {},
   "outputs": [],
   "source": [
    "# Set random seed\n",
    "np.random.seed(101)\n",
    "\n",
    "# Create first feature: x1\n",
    "x1 = np.random.normal(0, 1, 100)\n",
    "\n",
    "# Create second feature: x2\n",
    "x2 = x1 + np.random.normal(0, 1, 100)"
   ]
  },
  {
   "cell_type": "markdown",
   "metadata": {},
   "source": [
    "**Let's stack them together to form <code style=\"color:steelblue\">X</code>, our input feature matrix.**\n",
    "* We'll skip putting them in a Pandas DataFrame.\n",
    "* Instead, we'll just stack them together as two separate columns in a matrix."
   ]
  },
  {
   "cell_type": "code",
   "execution_count": 5,
   "metadata": {
    "scrolled": true
   },
   "outputs": [
    {
     "name": "stdout",
     "output_type": "stream",
     "text": [
      "(100, 2)\n"
     ]
    }
   ],
   "source": [
    "# Stack together as columns\n",
    "X = np.stack([x1, x2], axis=1)\n",
    "\n",
    "# Print shape of X\n",
    "print( X.shape )"
   ]
  },
  {
   "cell_type": "markdown",
   "metadata": {},
   "source": [
    "**Create a scaled version of your feature matrix and name it <code style=\"color:steelblue\">X_scaled</code>.**\n",
    "* You'll want to use <code style=\"color:steelblue\">StandardScaler</code>.\n",
    "* **Tip:** To fit and apply a transformation in one line of code, you can use the <code style=\"color:steelblue\">.fit_transform()</code> function.\n",
    "* Then, display the first 5 rows. \n",
    "    * You can't use <code style=\"color:steelblue\">.head()</code> because it's not a dataframe.\n",
    "    * You must **index/slice the array** instead."
   ]
  },
  {
   "cell_type": "code",
   "execution_count": 6,
   "metadata": {},
   "outputs": [
    {
     "data": {
      "text/plain": [
       "array([[ 2.45737416,  2.76968241],\n",
       "       [ 0.44665735, -0.38363275],\n",
       "       [ 0.71733989, -0.37695455],\n",
       "       [ 0.3264168 , -0.60579169],\n",
       "       [ 0.46889068,  0.39146426]])"
      ]
     },
     "execution_count": 6,
     "metadata": {},
     "output_type": "execute_result"
    }
   ],
   "source": [
    "# Initialize instance of StandardScaler\n",
    "scaler = StandardScaler()\n",
    "\n",
    "# Fit and transform X\n",
    "X_scaled = scaler.fit_transform(X)\n",
    "\n",
    "# Display first 5 rows of X_scaled\n",
    "X_scaled[:5]"
   ]
  },
  {
   "cell_type": "markdown",
   "metadata": {},
   "source": [
    "**Plot a scatterplot of the scaled $x_1$ against the scaled $x_2$.**\n",
    "* Label your axes as <code style=\"color:crimson\">x1 (scaled)</code> and <code style=\"color:crimson\">x2 (scaled)</code>.\n",
    "* **Tip:** Call <code style=\"color:steelblue\">plt.axis('equal')</code> after your scatterplot to put your plot's axes on the same scale.\n",
    "* We have a recommended plot below. See the Answer Key for how to create it."
   ]
  },
  {
   "cell_type": "code",
   "execution_count": 7,
   "metadata": {},
   "outputs": [
    {
     "data": {
      "image/png": "[encoded data removed]",
      "text/plain": [
       "<matplotlib.figure.Figure at 0x108550940>"
      ]
     },
     "metadata": {},
     "output_type": "display_data"
    }
   ],
   "source": [
    "# Plot scatterplot of scaled x1 against scaled x2\n",
    "plt.scatter(X_scaled[:,0], X_scaled[:,1])\n",
    "\n",
    "# Put plot axes on the same scale\n",
    "plt.axis('equal')\n",
    "\n",
    "# Label axes\n",
    "plt.xlabel('x1 (scaled)')\n",
    "plt.ylabel('x2 (scaled)')\n",
    "\n",
    "# Clear text residue\n",
    "plt.show()"
   ]
  },
  {
   "cell_type": "markdown",
   "metadata": {},
   "source": [
    "<p style=\"text-align:center; margin: 40px 0 40px 0; font-weight:bold\">\n",
    "<a href=\"#toc\">Back to Contents</a>\n",
    "</p>"
   ]
  },
  {
   "cell_type": "markdown",
   "metadata": {},
   "source": [
    "<span id=\"components\"></span>\n",
    "# 2. Principal components\n",
    "\n",
    "As it turns out, this type of distribution is very helpful for visualizing the mechanics behind PCA.\n",
    "\n",
    "<br>\n",
    "**First, add the following import line to your library imports above. Then, re-run that code cell.**\n",
    "\n",
    "<pre style=\"color:steelblue\">\n",
    "from sklearn.decomposition import PCA\n",
    "</pre>\n",
    "\n",
    "<br>\n",
    "**Next, we can initialize an instance of the PCA transformation.**\n",
    "* This is just as we did for the StandardScaler transformation. \n",
    "* Then, we can fit the instance with just one line of code."
   ]
  },
  {
   "cell_type": "code",
   "execution_count": 8,
   "metadata": {},
   "outputs": [
    {
     "data": {
      "text/plain": [
       "PCA(copy=True, iterated_power='auto', n_components=None, random_state=None,\n",
       "  svd_solver='auto', tol=0.0, whiten=False)"
      ]
     },
     "execution_count": 8,
     "metadata": {},
     "output_type": "execute_result"
    }
   ],
   "source": [
    "# Initialize instance of PCA transformation\n",
    "pca = PCA()\n",
    "\n",
    "# Fit the instance\n",
    "pca.fit(X_scaled)"
   ]
  },
  {
   "cell_type": "markdown",
   "metadata": {},
   "source": [
    "**Let's display the principal components.**"
   ]
  },
  {
   "cell_type": "code",
   "execution_count": 9,
   "metadata": {
    "scrolled": true
   },
   "outputs": [
    {
     "data": {
      "text/plain": [
       "array([[ 0.70710678,  0.70710678],\n",
       "       [-0.70710678,  0.70710678]])"
      ]
     },
     "execution_count": 9,
     "metadata": {},
     "output_type": "execute_result"
    }
   ],
   "source": [
    "# Display principal components\n",
    "pca.components_"
   ]
  },
  {
   "cell_type": "markdown",
   "metadata": {},
   "source": [
    "**Next, let's overlay the principal components on our oval blob.**\n",
    "* We'll make the oval blob semi-transparent so we can see the principal components more easily.\n",
    "* For clarity, we'll plot the first principal component in **black**, and we'll make it twice as long.\n",
    "* We'll plot the first principal component in <strong style=\"color:red\">red</strong>."
   ]
  },
  {
   "cell_type": "code",
   "execution_count": 10,
   "metadata": {},
   "outputs": [
    {
     "data": {
      "image/png": "[encoded data removed]",
      "text/plain": [
       "<matplotlib.figure.Figure at 0x108a1f2e8>"
      ]
     },
     "metadata": {},
     "output_type": "display_data"
    }
   ],
   "source": [
    "# Plot scaled dataset and make it partially transparent\n",
    "plt.scatter(X_scaled[:,0], X_scaled[:,1], alpha=0.3)\n",
    "\n",
    "# Plot first principal component in black\n",
    "plt.plot([0, 2*pca.components_[0,0]], [0, 2*pca.components_[0,1]], 'k')\n",
    "\n",
    "# Plot second principal component in red\n",
    "plt.plot([0, pca.components_[1,0]], [0, pca.components_[1,1]], 'r')\n",
    "\n",
    "# Set axes\n",
    "plt.axis('equal')\n",
    "plt.xlabel('x1 (scaled)')\n",
    "plt.ylabel('x2 (scaled)')\n",
    "\n",
    "# Clear text residue\n",
    "plt.show()"
   ]
  },
  {
   "cell_type": "markdown",
   "metadata": {},
   "source": [
    "**Finally, we can transform our original features using the fitted PCA instance.**\n",
    "* Remember, PCA generates new features that **replace** the original ones.\n",
    "* We'll name these new features <code style=\"color:crimson\">PC</code> (short for \"principal component\") to indicate that they are generated from PCA."
   ]
  },
  {
   "cell_type": "code",
   "execution_count": 11,
   "metadata": {},
   "outputs": [],
   "source": [
    "# Generate new features\n",
    "PC = pca.transform(X_scaled)"
   ]
  },
  {
   "cell_type": "code",
   "execution_count": 12,
   "metadata": {},
   "outputs": [
    {
     "data": {
      "image/png": "[encoded data removed]",
      "text/plain": [
       "<matplotlib.figure.Figure at 0x10897dac8>"
      ]
     },
     "metadata": {},
     "output_type": "display_data"
    }
   ],
   "source": [
    "# Plot transformed dataset\n",
    "plt.scatter(PC[:,0], PC[:,1], alpha=0.3, color='g')\n",
    "\n",
    "# Plot first principal component in black\n",
    "plt.plot([0, 2], [0, 0], 'k')\n",
    "\n",
    "# Plot second principal component in red\n",
    "plt.plot([0, 0], [0, 1], 'r')\n",
    "\n",
    "# Set axes\n",
    "plt.axis('equal')\n",
    "plt.xlabel('PC1')\n",
    "plt.ylabel('PC2')\n",
    "\n",
    "# Clear text residue\n",
    "plt.show()"
   ]
  },
  {
   "cell_type": "markdown",
   "metadata": {},
   "source": [
    "<p style=\"text-align:center; margin: 40px 0 40px 0; font-weight:bold\">\n",
    "<a href=\"#toc\">Back to Contents</a>\n",
    "</p>"
   ]
  },
  {
   "cell_type": "markdown",
   "metadata": {},
   "source": [
    "<span id=\"reduction\"></span>\n",
    "# 3. Dimensionality reduction\n",
    "\n",
    "Here's where dimensionality reduction comes into play. You can just keep some number of the \"best\" components, a.k.a. the ones that explain the most variance.\n",
    "\n",
    "<br>\n",
    "**First, display the \"explained variance\" ratio of each component.**"
   ]
  },
  {
   "cell_type": "code",
   "execution_count": 13,
   "metadata": {},
   "outputs": [
    {
     "data": {
      "text/plain": [
       "array([ 0.86915841,  0.13084159])"
      ]
     },
     "execution_count": 13,
     "metadata": {},
     "output_type": "execute_result"
    }
   ],
   "source": [
    "# Display explained variance ratio\n",
    "pca.explained_variance_ratio_"
   ]
  },
  {
   "cell_type": "markdown",
   "metadata": {},
   "source": [
    "**To keep only 1 component, we can simply initialize and fit another PCA transformation.**\n",
    "* This time, we'll simply pass the argument <code style=\"color:steelblue\">n_components=1</code>."
   ]
  },
  {
   "cell_type": "code",
   "execution_count": 14,
   "metadata": {},
   "outputs": [
    {
     "data": {
      "text/plain": [
       "PCA(copy=True, iterated_power='auto', n_components=1, random_state=None,\n",
       "  svd_solver='auto', tol=0.0, whiten=False)"
      ]
     },
     "execution_count": 14,
     "metadata": {},
     "output_type": "execute_result"
    }
   ],
   "source": [
    "# Initialize and fit a PCA transformation, only keeping 1 component\n",
    "pca = PCA(n_components=1)\n",
    "pca.fit(X_scaled)"
   ]
  },
  {
   "cell_type": "code",
   "execution_count": 15,
   "metadata": {},
   "outputs": [
    {
     "data": {
      "text/plain": [
       "array([[ 0.70710678,  0.70710678]])"
      ]
     },
     "execution_count": 15,
     "metadata": {},
     "output_type": "execute_result"
    }
   ],
   "source": [
    "# Display principal components\n",
    "pca.components_"
   ]
  },
  {
   "cell_type": "code",
   "execution_count": 16,
   "metadata": {},
   "outputs": [
    {
     "name": "stdout",
     "output_type": "stream",
     "text": [
      "(100, 1)\n"
     ]
    }
   ],
   "source": [
    "# Generate new features\n",
    "PC = pca.transform(X_scaled)\n",
    "print( PC.shape )"
   ]
  },
  {
   "cell_type": "code",
   "execution_count": 17,
   "metadata": {},
   "outputs": [
    {
     "data": {
      "image/png": "[encoded data removed]",
      "text/plain": [
       "<matplotlib.figure.Figure at 0x10e355160>"
      ]
     },
     "metadata": {},
     "output_type": "display_data"
    }
   ],
   "source": [
    "# Plot transformed dataset\n",
    "plt.scatter(PC[:,0], len(PC)*[0], alpha=0.3, color='g')\n",
    "\n",
    "# Plot first principal component in black\n",
    "plt.plot([0, 2], [0, 0], 'k')\n",
    "\n",
    "# Set axes\n",
    "plt.axis('equal')\n",
    "plt.xlabel('PC1')\n",
    "\n",
    "# Clear text residue\n",
    "plt.show()"
   ]
  },
  {
   "cell_type": "markdown",
   "metadata": {},
   "source": [
    "<p style=\"text-align:center; margin: 40px 0 40px 0; font-weight:bold\">\n",
    "<a href=\"#toc\">Back to Contents</a>\n",
    "</p>"
   ]
  },
  {
   "cell_type": "markdown",
   "metadata": {},
   "source": [
    "<span id=\"item-data\"></span>\n",
    "# 4. Item data PCA\n",
    "\n",
    "Now let's get back to our project.\n",
    "\n",
    "<br>\n",
    "**First, scale <code style=\"color:crimson\">item_data</code>, which you imported at the beginning of this module.**\n",
    "* Name the scaled dataset <code style=\"color:crimson\">item_data_scaled</code>.\n",
    "* Then, display the first 5 rows. \n",
    "    * You can't use <code style=\"color:steelblue\">.head()</code> because it's not a dataframe.\n",
    "    * You must **index/slice the array** instead."
   ]
  },
  {
   "cell_type": "code",
   "execution_count": 18,
   "metadata": {},
   "outputs": [
    {
     "data": {
      "text/plain": [
       "array([[-0.13303802, -0.04920678, -0.1119152 , ..., -0.10482848,\n",
       "        -0.15568183, -0.68068072],\n",
       "       [-0.13303802, -0.04920678, -0.1119152 , ..., -0.10482848,\n",
       "        -0.15568183,  0.38776219],\n",
       "       [-0.13303802, -0.04920678, -0.1119152 , ..., -0.10482848,\n",
       "        -0.15568183, -0.41356999],\n",
       "       [-0.13303802, -0.04920678, -0.1119152 , ..., -0.10482848,\n",
       "        -0.15568183, -0.41356999],\n",
       "       [-0.13303802, -0.04920678, -0.1119152 , ..., -0.10482848,\n",
       "         5.53128397,  0.65487292]])"
      ]
     },
     "execution_count": 18,
     "metadata": {},
     "output_type": "execute_result"
    }
   ],
   "source": [
    "# Initialize instance of StandardScaler\n",
    "scaler = StandardScaler()\n",
    "\n",
    "# Fit and transform item_data\n",
    "item_data_scaled = scaler.fit_transform(item_data)\n",
    "\n",
    "# Display first 5 rows of item_data_scaled\n",
    "item_data_scaled[:5]"
   ]
  },
  {
   "cell_type": "markdown",
   "metadata": {},
   "source": [
    "**Next, initialize and fit an instance of the PCA transformation.**\n",
    "* Keep all of the components for now (just don't pass in any argument)."
   ]
  },
  {
   "cell_type": "code",
   "execution_count": 19,
   "metadata": {},
   "outputs": [
    {
     "data": {
      "text/plain": [
       "PCA(copy=True, iterated_power='auto', n_components=None, random_state=None,\n",
       "  svd_solver='auto', tol=0.0, whiten=False)"
      ]
     },
     "execution_count": 19,
     "metadata": {},
     "output_type": "execute_result"
    }
   ],
   "source": [
    "# Initialize and fit a PCA transformation\n",
    "pca = PCA()\n",
    "pca.fit(item_data_scaled)"
   ]
  },
  {
   "cell_type": "markdown",
   "metadata": {},
   "source": [
    "**Finally, generate new \"principal component features\" from <code style=\"color:crimson\">item_data_scaled</code>.**\n",
    "* Name the new array <code style=\"color:crimson\">PC_items</code>.\n",
    "* Then, display the first 5 rows."
   ]
  },
  {
   "cell_type": "code",
   "execution_count": 20,
   "metadata": {},
   "outputs": [
    {
     "data": {
      "text/plain": [
       "array([[  5.87614052e+00,   4.82891689e+00,  -4.95545069e-01, ...,\n",
       "         -6.62646278e-04,  -4.43629806e-05,   2.03170814e-14],\n",
       "       [ -4.21983747e+00,   1.22621722e+00,  -1.88191211e+00, ...,\n",
       "         -2.11471782e-04,  -2.69154340e-04,   4.46496139e-15],\n",
       "       [ -1.26084676e+00,   2.38766371e+00,  -7.31483440e-02, ...,\n",
       "          2.57750179e-04,  -2.05682324e-04,   7.45237205e-15],\n",
       "       [ -4.92931983e+00,  -7.14858724e-01,  -1.58093026e+00, ...,\n",
       "         -1.98603886e-03,   9.92316312e-05,   8.80892581e-15],\n",
       "       [ -2.05311348e+00,   2.11095022e+00,   1.84807021e-01, ...,\n",
       "         -3.43415269e-04,  -1.32981672e-04,  -2.49709975e-13]])"
      ]
     },
     "execution_count": 20,
     "metadata": {},
     "output_type": "execute_result"
    }
   ],
   "source": [
    "# Generate new features\n",
    "PC_items = pca.transform(item_data_scaled)\n",
    "\n",
    "# Display first 5 rows\n",
    "PC_items[:5]"
   ]
  },
  {
   "cell_type": "markdown",
   "metadata": {},
   "source": [
    "<p style=\"text-align:center; margin: 40px 0 40px 0; font-weight:bold\">\n",
    "<a href=\"#toc\">Back to Contents</a>\n",
    "</p>"
   ]
  },
  {
   "cell_type": "markdown",
   "metadata": {},
   "source": [
    "<span id=\"explained-variance\"></span>\n",
    "# 5. Explained variance\n",
    "\n",
    "Earlier, we already saw how to display the **explained variance ratio** for each of the principal components.\n",
    "\n",
    "<br>\n",
    "**It's very helpful to calculate and plot the <u>cumulative</u> explained variance.**\n",
    "* This will tell us the total amount of variance we'd capture if we kept up to the n-th component.\n",
    "* First, we'll use <code style=\"color:steelblue\">np.cumsum()</code> to calculate the cumulative explained variance.\n",
    "* Then, we'll plot it so we can see how many $PC$ features we'd need to keep in order to capture most of the original variance."
   ]
  },
  {
   "cell_type": "code",
   "execution_count": 21,
   "metadata": {},
   "outputs": [
    {
     "data": {
      "text/plain": [
       "[<matplotlib.lines.Line2D at 0x1075609e8>]"
      ]
     },
     "execution_count": 21,
     "metadata": {},
     "output_type": "execute_result"
    },
    {
     "data": {
      "image/png": "[encoded data removed]",
      "text/plain": [
       "<matplotlib.figure.Figure at 0x108550668>"
      ]
     },
     "metadata": {},
     "output_type": "display_data"
    }
   ],
   "source": [
    "# Cumulative explained variance\n",
    "cumulative_explained_variance = np.cumsum(pca.explained_variance_ratio_)\n",
    "\n",
    "# Plot cumulative explained variance\n",
    "plt.plot(range(len(cumulative_explained_variance)), cumulative_explained_variance)"
   ]
  },
  {
   "cell_type": "code",
   "execution_count": 22,
   "metadata": {},
   "outputs": [
    {
     "data": {
      "text/plain": [
       "0.79550690322054007"
      ]
     },
     "execution_count": 22,
     "metadata": {},
     "output_type": "execute_result"
    }
   ],
   "source": [
    "# How much variance we'd capture with the first 125 components\n",
    "cumulative_explained_variance[124]"
   ]
  },
  {
   "cell_type": "markdown",
   "metadata": {},
   "source": [
    "**Initialize and fit another PCA transformation.**\n",
    "* This time, only keep 125 components.\n",
    "* Generate the principal component features from the fitted instance and name the new matrix <code style=\"color:crimson\">PC_items</code>.\n",
    "* Then, display the shape of <code style=\"color:crimson\">PC_items</code> to confirm it only has 125 features."
   ]
  },
  {
   "cell_type": "code",
   "execution_count": 23,
   "metadata": {},
   "outputs": [
    {
     "data": {
      "text/plain": [
       "(414, 125)"
      ]
     },
     "execution_count": 23,
     "metadata": {},
     "output_type": "execute_result"
    }
   ],
   "source": [
    "# Initialize PCA transformation, only keeping 125 components\n",
    "pca = PCA(n_components=125)\n",
    "\n",
    "# Fit and transform item_data_scaled\n",
    "PC_items = pca.fit_transform(item_data_scaled)\n",
    "\n",
    "# Display shape of PC_items\n",
    "PC_items.shape"
   ]
  },
  {
   "cell_type": "markdown",
   "metadata": {},
   "source": [
    "**Next, for convenience, let's put <code style=\"color:crimson\">PC_items</code> into a new dataframe.**\n",
    "* We'll also name the columns and update its index to be the same as the orginal <code style=\"color:crimson\">item_data</code>'s index."
   ]
  },
  {
   "cell_type": "code",
   "execution_count": 24,
   "metadata": {},
   "outputs": [
    {
     "data": {
      "text/html": [
       "<div>\n",
       "<style>\n",
       "    .dataframe thead tr:only-child th {\n",
       "        text-align: right;\n",
       "    }\n",
       "\n",
       "    .dataframe thead th {\n",
       "        text-align: left;\n",
       "    }\n",
       "\n",
       "    .dataframe tbody tr th {\n",
       "        vertical-align: top;\n",
       "    }\n",
       "</style>\n",
       "<table border=\"1\" class=\"dataframe\">\n",
       "  <thead>\n",
       "    <tr style=\"text-align: right;\">\n",
       "      <th></th>\n",
       "      <th>PC1</th>\n",
       "      <th>PC2</th>\n",
       "      <th>PC3</th>\n",
       "      <th>PC4</th>\n",
       "      <th>PC5</th>\n",
       "      <th>PC6</th>\n",
       "      <th>PC7</th>\n",
       "      <th>PC8</th>\n",
       "      <th>PC9</th>\n",
       "      <th>PC10</th>\n",
       "      <th>PC11</th>\n",
       "      <th>PC12</th>\n",
       "      <th>PC13</th>\n",
       "      <th>PC14</th>\n",
       "      <th>PC15</th>\n",
       "      <th>PC16</th>\n",
       "      <th>PC17</th>\n",
       "      <th>PC18</th>\n",
       "      <th>PC19</th>\n",
       "      <th>PC20</th>\n",
       "      <th>PC21</th>\n",
       "      <th>PC22</th>\n",
       "      <th>PC23</th>\n",
       "      <th>PC24</th>\n",
       "      <th>PC25</th>\n",
       "      <th>PC26</th>\n",
       "      <th>PC27</th>\n",
       "      <th>PC28</th>\n",
       "      <th>PC29</th>\n",
       "      <th>PC30</th>\n",
       "      <th>PC31</th>\n",
       "      <th>PC32</th>\n",
       "      <th>PC33</th>\n",
       "      <th>PC34</th>\n",
       "      <th>PC35</th>\n",
       "      <th>PC36</th>\n",
       "      <th>PC37</th>\n",
       "      <th>PC38</th>\n",
       "      <th>PC39</th>\n",
       "      <th>PC40</th>\n",
       "      <th>PC41</th>\n",
       "      <th>PC42</th>\n",
       "      <th>PC43</th>\n",
       "      <th>PC44</th>\n",
       "      <th>PC45</th>\n",
       "      <th>PC46</th>\n",
       "      <th>PC47</th>\n",
       "      <th>PC48</th>\n",
       "      <th>PC49</th>\n",
       "      <th>PC50</th>\n",
       "      <th>...</th>\n",
       "      <th>PC76</th>\n",
       "      <th>PC77</th>\n",
       "      <th>PC78</th>\n",
       "      <th>PC79</th>\n",
       "      <th>PC80</th>\n",
       "      <th>PC81</th>\n",
       "      <th>PC82</th>\n",
       "      <th>PC83</th>\n",
       "      <th>PC84</th>\n",
       "      <th>PC85</th>\n",
       "      <th>PC86</th>\n",
       "      <th>PC87</th>\n",
       "      <th>PC88</th>\n",
       "      <th>PC89</th>\n",
       "      <th>PC90</th>\n",
       "      <th>PC91</th>\n",
       "      <th>PC92</th>\n",
       "      <th>PC93</th>\n",
       "      <th>PC94</th>\n",
       "      <th>PC95</th>\n",
       "      <th>PC96</th>\n",
       "      <th>PC97</th>\n",
       "      <th>PC98</th>\n",
       "      <th>PC99</th>\n",
       "      <th>PC100</th>\n",
       "      <th>PC101</th>\n",
       "      <th>PC102</th>\n",
       "      <th>PC103</th>\n",
       "      <th>PC104</th>\n",
       "      <th>PC105</th>\n",
       "      <th>PC106</th>\n",
       "      <th>PC107</th>\n",
       "      <th>PC108</th>\n",
       "      <th>PC109</th>\n",
       "      <th>PC110</th>\n",
       "      <th>PC111</th>\n",
       "      <th>PC112</th>\n",
       "      <th>PC113</th>\n",
       "      <th>PC114</th>\n",
       "      <th>PC115</th>\n",
       "      <th>PC116</th>\n",
       "      <th>PC117</th>\n",
       "      <th>PC118</th>\n",
       "      <th>PC119</th>\n",
       "      <th>PC120</th>\n",
       "      <th>PC121</th>\n",
       "      <th>PC122</th>\n",
       "      <th>PC123</th>\n",
       "      <th>PC124</th>\n",
       "      <th>PC125</th>\n",
       "    </tr>\n",
       "    <tr>\n",
       "      <th>CustomerID</th>\n",
       "      <th></th>\n",
       "      <th></th>\n",
       "      <th></th>\n",
       "      <th></th>\n",
       "      <th></th>\n",
       "      <th></th>\n",
       "      <th></th>\n",
       "      <th></th>\n",
       "      <th></th>\n",
       "      <th></th>\n",
       "      <th></th>\n",
       "      <th></th>\n",
       "      <th></th>\n",
       "      <th></th>\n",
       "      <th></th>\n",
       "      <th></th>\n",
       "      <th></th>\n",
       "      <th></th>\n",
       "      <th></th>\n",
       "      <th></th>\n",
       "      <th></th>\n",
       "      <th></th>\n",
       "      <th></th>\n",
       "      <th></th>\n",
       "      <th></th>\n",
       "      <th></th>\n",
       "      <th></th>\n",
       "      <th></th>\n",
       "      <th></th>\n",
       "      <th></th>\n",
       "      <th></th>\n",
       "      <th></th>\n",
       "      <th></th>\n",
       "      <th></th>\n",
       "      <th></th>\n",
       "      <th></th>\n",
       "      <th></th>\n",
       "      <th></th>\n",
       "      <th></th>\n",
       "      <th></th>\n",
       "      <th></th>\n",
       "      <th></th>\n",
       "      <th></th>\n",
       "      <th></th>\n",
       "      <th></th>\n",
       "      <th></th>\n",
       "      <th></th>\n",
       "      <th></th>\n",
       "      <th></th>\n",
       "      <th></th>\n",
       "      <th></th>\n",
       "      <th></th>\n",
       "      <th></th>\n",
       "      <th></th>\n",
       "      <th></th>\n",
       "      <th></th>\n",
       "      <th></th>\n",
       "      <th></th>\n",
       "      <th></th>\n",
       "      <th></th>\n",
       "      <th></th>\n",
       "      <th></th>\n",
       "      <th></th>\n",
       "      <th></th>\n",
       "      <th></th>\n",
       "      <th></th>\n",
       "      <th></th>\n",
       "      <th></th>\n",
       "      <th></th>\n",
       "      <th></th>\n",
       "      <th></th>\n",
       "      <th></th>\n",
       "      <th></th>\n",
       "      <th></th>\n",
       "      <th></th>\n",
       "      <th></th>\n",
       "      <th></th>\n",
       "      <th></th>\n",
       "      <th></th>\n",
       "      <th></th>\n",
       "      <th></th>\n",
       "      <th></th>\n",
       "      <th></th>\n",
       "      <th></th>\n",
       "      <th></th>\n",
       "      <th></th>\n",
       "      <th></th>\n",
       "      <th></th>\n",
       "      <th></th>\n",
       "      <th></th>\n",
       "      <th></th>\n",
       "      <th></th>\n",
       "      <th></th>\n",
       "      <th></th>\n",
       "      <th></th>\n",
       "      <th></th>\n",
       "      <th></th>\n",
       "      <th></th>\n",
       "      <th></th>\n",
       "      <th></th>\n",
       "      <th></th>\n",
       "    </tr>\n",
       "  </thead>\n",
       "  <tbody>\n",
       "    <tr>\n",
       "      <th>12347</th>\n",
       "      <td>5.876141</td>\n",
       "      <td>4.828892</td>\n",
       "      <td>-0.495543</td>\n",
       "      <td>3.093843</td>\n",
       "      <td>-0.633702</td>\n",
       "      <td>-11.534085</td>\n",
       "      <td>2.161913</td>\n",
       "      <td>7.116797</td>\n",
       "      <td>5.336110</td>\n",
       "      <td>4.424089</td>\n",
       "      <td>4.636927</td>\n",
       "      <td>2.316653</td>\n",
       "      <td>12.310852</td>\n",
       "      <td>1.986991</td>\n",
       "      <td>-11.431419</td>\n",
       "      <td>5.617585</td>\n",
       "      <td>-2.176671</td>\n",
       "      <td>7.665909</td>\n",
       "      <td>-12.135775</td>\n",
       "      <td>-16.048472</td>\n",
       "      <td>-5.949797</td>\n",
       "      <td>7.814681</td>\n",
       "      <td>40.516405</td>\n",
       "      <td>-35.575430</td>\n",
       "      <td>-17.557308</td>\n",
       "      <td>6.869688</td>\n",
       "      <td>20.887952</td>\n",
       "      <td>2.297487</td>\n",
       "      <td>-26.156289</td>\n",
       "      <td>-32.582130</td>\n",
       "      <td>7.883801</td>\n",
       "      <td>12.353973</td>\n",
       "      <td>6.831575</td>\n",
       "      <td>-32.955725</td>\n",
       "      <td>-4.408426</td>\n",
       "      <td>-17.235243</td>\n",
       "      <td>-11.275285</td>\n",
       "      <td>-14.490191</td>\n",
       "      <td>-2.763643</td>\n",
       "      <td>4.734708</td>\n",
       "      <td>-6.984515</td>\n",
       "      <td>-1.460754</td>\n",
       "      <td>10.600410</td>\n",
       "      <td>1.241669</td>\n",
       "      <td>3.095624</td>\n",
       "      <td>5.331731</td>\n",
       "      <td>-0.417450</td>\n",
       "      <td>1.527353</td>\n",
       "      <td>-6.409488</td>\n",
       "      <td>3.056646</td>\n",
       "      <td>...</td>\n",
       "      <td>2.311696</td>\n",
       "      <td>2.528281</td>\n",
       "      <td>-1.020094</td>\n",
       "      <td>-1.826817</td>\n",
       "      <td>-1.782002</td>\n",
       "      <td>1.250666</td>\n",
       "      <td>0.268078</td>\n",
       "      <td>-1.713217</td>\n",
       "      <td>1.675448</td>\n",
       "      <td>-3.594813</td>\n",
       "      <td>0.524752</td>\n",
       "      <td>-1.873924</td>\n",
       "      <td>0.624251</td>\n",
       "      <td>0.238212</td>\n",
       "      <td>1.119833</td>\n",
       "      <td>-1.800831</td>\n",
       "      <td>0.666073</td>\n",
       "      <td>0.233571</td>\n",
       "      <td>-0.150078</td>\n",
       "      <td>0.842559</td>\n",
       "      <td>-0.364235</td>\n",
       "      <td>-0.573426</td>\n",
       "      <td>-0.062462</td>\n",
       "      <td>0.622033</td>\n",
       "      <td>0.037471</td>\n",
       "      <td>-0.811016</td>\n",
       "      <td>1.602420</td>\n",
       "      <td>0.104307</td>\n",
       "      <td>-0.153327</td>\n",
       "      <td>-0.251323</td>\n",
       "      <td>0.410751</td>\n",
       "      <td>-0.485748</td>\n",
       "      <td>-0.138471</td>\n",
       "      <td>1.202081</td>\n",
       "      <td>0.414028</td>\n",
       "      <td>0.565478</td>\n",
       "      <td>-0.655107</td>\n",
       "      <td>1.073001</td>\n",
       "      <td>-0.057048</td>\n",
       "      <td>0.240346</td>\n",
       "      <td>-0.007766</td>\n",
       "      <td>-0.779199</td>\n",
       "      <td>0.613359</td>\n",
       "      <td>-0.330509</td>\n",
       "      <td>-0.004962</td>\n",
       "      <td>-0.045697</td>\n",
       "      <td>0.148163</td>\n",
       "      <td>-0.061750</td>\n",
       "      <td>-0.198612</td>\n",
       "      <td>-0.269058</td>\n",
       "    </tr>\n",
       "    <tr>\n",
       "      <th>12348</th>\n",
       "      <td>-4.219839</td>\n",
       "      <td>1.226195</td>\n",
       "      <td>-1.881922</td>\n",
       "      <td>-0.174302</td>\n",
       "      <td>0.817768</td>\n",
       "      <td>1.160852</td>\n",
       "      <td>-0.871961</td>\n",
       "      <td>-0.846827</td>\n",
       "      <td>0.460120</td>\n",
       "      <td>0.854323</td>\n",
       "      <td>-0.401760</td>\n",
       "      <td>0.981605</td>\n",
       "      <td>-1.104198</td>\n",
       "      <td>0.770226</td>\n",
       "      <td>-0.092707</td>\n",
       "      <td>-0.313275</td>\n",
       "      <td>-0.448938</td>\n",
       "      <td>1.207543</td>\n",
       "      <td>0.381764</td>\n",
       "      <td>-0.468900</td>\n",
       "      <td>0.183725</td>\n",
       "      <td>0.054173</td>\n",
       "      <td>0.501489</td>\n",
       "      <td>0.373975</td>\n",
       "      <td>1.226069</td>\n",
       "      <td>-0.771832</td>\n",
       "      <td>-0.269968</td>\n",
       "      <td>0.851287</td>\n",
       "      <td>-0.371127</td>\n",
       "      <td>-0.578059</td>\n",
       "      <td>1.010339</td>\n",
       "      <td>-0.582769</td>\n",
       "      <td>0.946070</td>\n",
       "      <td>-0.736183</td>\n",
       "      <td>0.355560</td>\n",
       "      <td>-0.385273</td>\n",
       "      <td>-0.297174</td>\n",
       "      <td>0.397002</td>\n",
       "      <td>0.153127</td>\n",
       "      <td>0.334103</td>\n",
       "      <td>-0.458112</td>\n",
       "      <td>0.706996</td>\n",
       "      <td>1.212702</td>\n",
       "      <td>-0.199148</td>\n",
       "      <td>-0.861671</td>\n",
       "      <td>-0.067365</td>\n",
       "      <td>-0.417001</td>\n",
       "      <td>-1.614081</td>\n",
       "      <td>-0.364249</td>\n",
       "      <td>0.454946</td>\n",
       "      <td>...</td>\n",
       "      <td>-1.003771</td>\n",
       "      <td>-0.888863</td>\n",
       "      <td>-0.530779</td>\n",
       "      <td>-0.277437</td>\n",
       "      <td>0.036027</td>\n",
       "      <td>0.129662</td>\n",
       "      <td>-0.561206</td>\n",
       "      <td>-0.394906</td>\n",
       "      <td>-0.629814</td>\n",
       "      <td>0.319792</td>\n",
       "      <td>0.236758</td>\n",
       "      <td>0.148990</td>\n",
       "      <td>-1.854245</td>\n",
       "      <td>0.124591</td>\n",
       "      <td>-0.416596</td>\n",
       "      <td>-0.741901</td>\n",
       "      <td>0.207915</td>\n",
       "      <td>0.994749</td>\n",
       "      <td>-0.156038</td>\n",
       "      <td>1.087600</td>\n",
       "      <td>0.081404</td>\n",
       "      <td>0.413462</td>\n",
       "      <td>1.287041</td>\n",
       "      <td>1.002995</td>\n",
       "      <td>-0.653275</td>\n",
       "      <td>0.790626</td>\n",
       "      <td>-0.720898</td>\n",
       "      <td>-0.457527</td>\n",
       "      <td>-1.722533</td>\n",
       "      <td>-1.502235</td>\n",
       "      <td>1.066439</td>\n",
       "      <td>-0.696565</td>\n",
       "      <td>2.011565</td>\n",
       "      <td>-0.602318</td>\n",
       "      <td>-0.767082</td>\n",
       "      <td>-0.245528</td>\n",
       "      <td>0.569452</td>\n",
       "      <td>-0.933205</td>\n",
       "      <td>1.556439</td>\n",
       "      <td>-1.138468</td>\n",
       "      <td>-1.904435</td>\n",
       "      <td>0.075644</td>\n",
       "      <td>-0.955823</td>\n",
       "      <td>1.409611</td>\n",
       "      <td>0.724342</td>\n",
       "      <td>0.464916</td>\n",
       "      <td>1.907702</td>\n",
       "      <td>-1.416770</td>\n",
       "      <td>1.121250</td>\n",
       "      <td>-2.946993</td>\n",
       "    </tr>\n",
       "    <tr>\n",
       "      <th>12349</th>\n",
       "      <td>-1.260838</td>\n",
       "      <td>2.387828</td>\n",
       "      <td>-0.073097</td>\n",
       "      <td>-1.118903</td>\n",
       "      <td>-0.034546</td>\n",
       "      <td>-3.715325</td>\n",
       "      <td>-0.342738</td>\n",
       "      <td>-0.149002</td>\n",
       "      <td>-0.789685</td>\n",
       "      <td>-0.377883</td>\n",
       "      <td>1.568210</td>\n",
       "      <td>0.182048</td>\n",
       "      <td>0.221997</td>\n",
       "      <td>-0.050455</td>\n",
       "      <td>3.179876</td>\n",
       "      <td>-0.513626</td>\n",
       "      <td>-1.838726</td>\n",
       "      <td>0.382550</td>\n",
       "      <td>0.318497</td>\n",
       "      <td>-0.005705</td>\n",
       "      <td>-0.413850</td>\n",
       "      <td>0.456688</td>\n",
       "      <td>-0.789146</td>\n",
       "      <td>1.754879</td>\n",
       "      <td>-1.482831</td>\n",
       "      <td>0.752196</td>\n",
       "      <td>-0.917753</td>\n",
       "      <td>0.767206</td>\n",
       "      <td>0.487542</td>\n",
       "      <td>-1.349293</td>\n",
       "      <td>0.287530</td>\n",
       "      <td>0.645437</td>\n",
       "      <td>0.070297</td>\n",
       "      <td>-0.218669</td>\n",
       "      <td>-0.667523</td>\n",
       "      <td>-1.540909</td>\n",
       "      <td>0.790748</td>\n",
       "      <td>-1.412095</td>\n",
       "      <td>-0.092946</td>\n",
       "      <td>-0.922501</td>\n",
       "      <td>0.075750</td>\n",
       "      <td>-0.097580</td>\n",
       "      <td>-0.162106</td>\n",
       "      <td>0.704347</td>\n",
       "      <td>1.397955</td>\n",
       "      <td>-0.256310</td>\n",
       "      <td>-0.132071</td>\n",
       "      <td>-0.193963</td>\n",
       "      <td>0.844302</td>\n",
       "      <td>1.671131</td>\n",
       "      <td>...</td>\n",
       "      <td>2.024681</td>\n",
       "      <td>-0.915472</td>\n",
       "      <td>1.982239</td>\n",
       "      <td>0.634441</td>\n",
       "      <td>0.648187</td>\n",
       "      <td>0.191702</td>\n",
       "      <td>-1.109805</td>\n",
       "      <td>1.052615</td>\n",
       "      <td>-1.183430</td>\n",
       "      <td>-0.544985</td>\n",
       "      <td>1.395267</td>\n",
       "      <td>1.571042</td>\n",
       "      <td>-2.602249</td>\n",
       "      <td>-2.140487</td>\n",
       "      <td>1.167780</td>\n",
       "      <td>-2.044468</td>\n",
       "      <td>-2.057936</td>\n",
       "      <td>-2.018433</td>\n",
       "      <td>-1.913184</td>\n",
       "      <td>-1.861216</td>\n",
       "      <td>-0.138171</td>\n",
       "      <td>-1.027463</td>\n",
       "      <td>1.863885</td>\n",
       "      <td>0.085432</td>\n",
       "      <td>0.376080</td>\n",
       "      <td>1.989101</td>\n",
       "      <td>-1.386937</td>\n",
       "      <td>-1.450922</td>\n",
       "      <td>2.876608</td>\n",
       "      <td>-1.125522</td>\n",
       "      <td>-0.047045</td>\n",
       "      <td>-2.985383</td>\n",
       "      <td>2.003770</td>\n",
       "      <td>0.914071</td>\n",
       "      <td>-1.002057</td>\n",
       "      <td>-0.012691</td>\n",
       "      <td>2.621160</td>\n",
       "      <td>-2.022646</td>\n",
       "      <td>-0.626575</td>\n",
       "      <td>0.658062</td>\n",
       "      <td>4.595645</td>\n",
       "      <td>-4.527504</td>\n",
       "      <td>-2.370799</td>\n",
       "      <td>-3.396166</td>\n",
       "      <td>-3.419379</td>\n",
       "      <td>-1.304617</td>\n",
       "      <td>3.845541</td>\n",
       "      <td>0.807568</td>\n",
       "      <td>-4.652684</td>\n",
       "      <td>2.594639</td>\n",
       "    </tr>\n",
       "    <tr>\n",
       "      <th>12350</th>\n",
       "      <td>-4.929319</td>\n",
       "      <td>-0.714874</td>\n",
       "      <td>-1.581119</td>\n",
       "      <td>-0.469789</td>\n",
       "      <td>-0.116164</td>\n",
       "      <td>0.647736</td>\n",
       "      <td>0.112682</td>\n",
       "      <td>-1.336327</td>\n",
       "      <td>1.547287</td>\n",
       "      <td>-1.190830</td>\n",
       "      <td>-0.212845</td>\n",
       "      <td>1.057421</td>\n",
       "      <td>-0.474587</td>\n",
       "      <td>0.856864</td>\n",
       "      <td>-1.305032</td>\n",
       "      <td>0.243091</td>\n",
       "      <td>0.269373</td>\n",
       "      <td>1.954158</td>\n",
       "      <td>-0.229004</td>\n",
       "      <td>0.571653</td>\n",
       "      <td>-0.186408</td>\n",
       "      <td>0.904185</td>\n",
       "      <td>1.363480</td>\n",
       "      <td>0.176493</td>\n",
       "      <td>-0.261888</td>\n",
       "      <td>-0.164701</td>\n",
       "      <td>-0.682527</td>\n",
       "      <td>1.081079</td>\n",
       "      <td>-0.153103</td>\n",
       "      <td>-0.397770</td>\n",
       "      <td>0.240457</td>\n",
       "      <td>0.632403</td>\n",
       "      <td>-1.450379</td>\n",
       "      <td>-0.181967</td>\n",
       "      <td>-0.315697</td>\n",
       "      <td>-0.307000</td>\n",
       "      <td>-1.360443</td>\n",
       "      <td>-0.004263</td>\n",
       "      <td>0.585065</td>\n",
       "      <td>-0.250773</td>\n",
       "      <td>0.589736</td>\n",
       "      <td>-0.216347</td>\n",
       "      <td>0.283305</td>\n",
       "      <td>0.514181</td>\n",
       "      <td>-0.522224</td>\n",
       "      <td>-0.102391</td>\n",
       "      <td>-1.468632</td>\n",
       "      <td>0.153130</td>\n",
       "      <td>0.137853</td>\n",
       "      <td>-0.668825</td>\n",
       "      <td>...</td>\n",
       "      <td>1.587680</td>\n",
       "      <td>-0.312834</td>\n",
       "      <td>0.538319</td>\n",
       "      <td>0.498120</td>\n",
       "      <td>-0.379276</td>\n",
       "      <td>-0.143061</td>\n",
       "      <td>-1.631847</td>\n",
       "      <td>0.265585</td>\n",
       "      <td>-0.821109</td>\n",
       "      <td>0.065793</td>\n",
       "      <td>0.352553</td>\n",
       "      <td>-0.098971</td>\n",
       "      <td>-0.238175</td>\n",
       "      <td>-0.239312</td>\n",
       "      <td>-0.616223</td>\n",
       "      <td>0.135915</td>\n",
       "      <td>0.128470</td>\n",
       "      <td>-0.327748</td>\n",
       "      <td>-0.030588</td>\n",
       "      <td>0.925032</td>\n",
       "      <td>0.700086</td>\n",
       "      <td>-0.469803</td>\n",
       "      <td>-0.465706</td>\n",
       "      <td>-0.424701</td>\n",
       "      <td>-0.413837</td>\n",
       "      <td>-0.475980</td>\n",
       "      <td>-0.072629</td>\n",
       "      <td>0.003003</td>\n",
       "      <td>-0.306798</td>\n",
       "      <td>0.746092</td>\n",
       "      <td>-0.097780</td>\n",
       "      <td>0.009038</td>\n",
       "      <td>-0.941828</td>\n",
       "      <td>-0.972072</td>\n",
       "      <td>0.089459</td>\n",
       "      <td>-0.500449</td>\n",
       "      <td>-0.877688</td>\n",
       "      <td>-0.115300</td>\n",
       "      <td>-0.946837</td>\n",
       "      <td>-0.832407</td>\n",
       "      <td>-1.869817</td>\n",
       "      <td>-0.460085</td>\n",
       "      <td>-1.192275</td>\n",
       "      <td>-0.596812</td>\n",
       "      <td>-0.808693</td>\n",
       "      <td>0.373854</td>\n",
       "      <td>-0.282510</td>\n",
       "      <td>-0.819361</td>\n",
       "      <td>-1.010051</td>\n",
       "      <td>0.363232</td>\n",
       "    </tr>\n",
       "    <tr>\n",
       "      <th>12352</th>\n",
       "      <td>-2.053129</td>\n",
       "      <td>2.110788</td>\n",
       "      <td>0.184844</td>\n",
       "      <td>0.128379</td>\n",
       "      <td>0.087133</td>\n",
       "      <td>-1.943497</td>\n",
       "      <td>2.383475</td>\n",
       "      <td>0.898283</td>\n",
       "      <td>-0.672848</td>\n",
       "      <td>0.081181</td>\n",
       "      <td>0.876560</td>\n",
       "      <td>1.050469</td>\n",
       "      <td>-0.741169</td>\n",
       "      <td>-2.072337</td>\n",
       "      <td>-0.638441</td>\n",
       "      <td>0.016934</td>\n",
       "      <td>0.116529</td>\n",
       "      <td>0.574754</td>\n",
       "      <td>-0.028200</td>\n",
       "      <td>0.105593</td>\n",
       "      <td>-0.697584</td>\n",
       "      <td>-0.912799</td>\n",
       "      <td>-2.333353</td>\n",
       "      <td>0.520400</td>\n",
       "      <td>-1.753451</td>\n",
       "      <td>0.220404</td>\n",
       "      <td>-1.065513</td>\n",
       "      <td>-1.802701</td>\n",
       "      <td>-0.926017</td>\n",
       "      <td>2.092838</td>\n",
       "      <td>-0.157553</td>\n",
       "      <td>2.224841</td>\n",
       "      <td>2.247914</td>\n",
       "      <td>-0.582345</td>\n",
       "      <td>2.444479</td>\n",
       "      <td>1.382216</td>\n",
       "      <td>0.196948</td>\n",
       "      <td>-0.415278</td>\n",
       "      <td>1.807503</td>\n",
       "      <td>1.221162</td>\n",
       "      <td>-0.946808</td>\n",
       "      <td>-0.869562</td>\n",
       "      <td>-1.125108</td>\n",
       "      <td>-0.087796</td>\n",
       "      <td>-0.880610</td>\n",
       "      <td>-2.234063</td>\n",
       "      <td>-1.615460</td>\n",
       "      <td>-1.444537</td>\n",
       "      <td>0.989681</td>\n",
       "      <td>0.305116</td>\n",
       "      <td>...</td>\n",
       "      <td>1.293374</td>\n",
       "      <td>-0.147521</td>\n",
       "      <td>2.528921</td>\n",
       "      <td>-3.247448</td>\n",
       "      <td>0.605011</td>\n",
       "      <td>0.353734</td>\n",
       "      <td>-0.785340</td>\n",
       "      <td>2.508960</td>\n",
       "      <td>0.008842</td>\n",
       "      <td>-2.355360</td>\n",
       "      <td>-2.509794</td>\n",
       "      <td>2.113315</td>\n",
       "      <td>0.605477</td>\n",
       "      <td>-5.850830</td>\n",
       "      <td>-1.172350</td>\n",
       "      <td>-4.392767</td>\n",
       "      <td>-4.341841</td>\n",
       "      <td>-0.346239</td>\n",
       "      <td>-1.995074</td>\n",
       "      <td>-6.938529</td>\n",
       "      <td>-1.357680</td>\n",
       "      <td>-0.771951</td>\n",
       "      <td>-5.746568</td>\n",
       "      <td>5.445534</td>\n",
       "      <td>5.885039</td>\n",
       "      <td>-4.315133</td>\n",
       "      <td>12.602361</td>\n",
       "      <td>-1.297988</td>\n",
       "      <td>8.605877</td>\n",
       "      <td>0.545145</td>\n",
       "      <td>19.256035</td>\n",
       "      <td>2.775318</td>\n",
       "      <td>-9.282485</td>\n",
       "      <td>-4.181716</td>\n",
       "      <td>5.703884</td>\n",
       "      <td>15.600565</td>\n",
       "      <td>-12.005130</td>\n",
       "      <td>6.062909</td>\n",
       "      <td>1.765898</td>\n",
       "      <td>-0.423339</td>\n",
       "      <td>1.695937</td>\n",
       "      <td>8.096258</td>\n",
       "      <td>10.325739</td>\n",
       "      <td>-8.947321</td>\n",
       "      <td>-3.582689</td>\n",
       "      <td>-2.078227</td>\n",
       "      <td>3.346192</td>\n",
       "      <td>5.183793</td>\n",
       "      <td>0.928319</td>\n",
       "      <td>-1.933235</td>\n",
       "    </tr>\n",
       "  </tbody>\n",
       "</table>\n",
       "<p>5 rows × 125 columns</p>\n",
       "</div>"
      ],
      "text/plain": [
       "                 PC1       PC2       PC3       PC4       PC5        PC6  \\\n",
       "CustomerID                                                                \n",
       "12347       5.876141  4.828892 -0.495543  3.093843 -0.633702 -11.534085   \n",
       "12348      -4.219839  1.226195 -1.881922 -0.174302  0.817768   1.160852   \n",
       "12349      -1.260838  2.387828 -0.073097 -1.118903 -0.034546  -3.715325   \n",
       "12350      -4.929319 -0.714874 -1.581119 -0.469789 -0.116164   0.647736   \n",
       "12352      -2.053129  2.110788  0.184844  0.128379  0.087133  -1.943497   \n",
       "\n",
       "                 PC7       PC8       PC9      PC10      PC11      PC12  \\\n",
       "CustomerID                                                               \n",
       "12347       2.161913  7.116797  5.336110  4.424089  4.636927  2.316653   \n",
       "12348      -0.871961 -0.846827  0.460120  0.854323 -0.401760  0.981605   \n",
       "12349      -0.342738 -0.149002 -0.789685 -0.377883  1.568210  0.182048   \n",
       "12350       0.112682 -1.336327  1.547287 -1.190830 -0.212845  1.057421   \n",
       "12352       2.383475  0.898283 -0.672848  0.081181  0.876560  1.050469   \n",
       "\n",
       "                 PC13      PC14       PC15      PC16      PC17      PC18  \\\n",
       "CustomerID                                                                 \n",
       "12347       12.310852  1.986991 -11.431419  5.617585 -2.176671  7.665909   \n",
       "12348       -1.104198  0.770226  -0.092707 -0.313275 -0.448938  1.207543   \n",
       "12349        0.221997 -0.050455   3.179876 -0.513626 -1.838726  0.382550   \n",
       "12350       -0.474587  0.856864  -1.305032  0.243091  0.269373  1.954158   \n",
       "12352       -0.741169 -2.072337  -0.638441  0.016934  0.116529  0.574754   \n",
       "\n",
       "                 PC19       PC20      PC21      PC22       PC23       PC24  \\\n",
       "CustomerID                                                                   \n",
       "12347      -12.135775 -16.048472 -5.949797  7.814681  40.516405 -35.575430   \n",
       "12348        0.381764  -0.468900  0.183725  0.054173   0.501489   0.373975   \n",
       "12349        0.318497  -0.005705 -0.413850  0.456688  -0.789146   1.754879   \n",
       "12350       -0.229004   0.571653 -0.186408  0.904185   1.363480   0.176493   \n",
       "12352       -0.028200   0.105593 -0.697584 -0.912799  -2.333353   0.520400   \n",
       "\n",
       "                 PC25      PC26       PC27      PC28       PC29       PC30  \\\n",
       "CustomerID                                                                   \n",
       "12347      -17.557308  6.869688  20.887952  2.297487 -26.156289 -32.582130   \n",
       "12348        1.226069 -0.771832  -0.269968  0.851287  -0.371127  -0.578059   \n",
       "12349       -1.482831  0.752196  -0.917753  0.767206   0.487542  -1.349293   \n",
       "12350       -0.261888 -0.164701  -0.682527  1.081079  -0.153103  -0.397770   \n",
       "12352       -1.753451  0.220404  -1.065513 -1.802701  -0.926017   2.092838   \n",
       "\n",
       "                PC31       PC32      PC33       PC34      PC35       PC36  \\\n",
       "CustomerID                                                                  \n",
       "12347       7.883801  12.353973  6.831575 -32.955725 -4.408426 -17.235243   \n",
       "12348       1.010339  -0.582769  0.946070  -0.736183  0.355560  -0.385273   \n",
       "12349       0.287530   0.645437  0.070297  -0.218669 -0.667523  -1.540909   \n",
       "12350       0.240457   0.632403 -1.450379  -0.181967 -0.315697  -0.307000   \n",
       "12352      -0.157553   2.224841  2.247914  -0.582345  2.444479   1.382216   \n",
       "\n",
       "                 PC37       PC38      PC39      PC40      PC41      PC42  \\\n",
       "CustomerID                                                                 \n",
       "12347      -11.275285 -14.490191 -2.763643  4.734708 -6.984515 -1.460754   \n",
       "12348       -0.297174   0.397002  0.153127  0.334103 -0.458112  0.706996   \n",
       "12349        0.790748  -1.412095 -0.092946 -0.922501  0.075750 -0.097580   \n",
       "12350       -1.360443  -0.004263  0.585065 -0.250773  0.589736 -0.216347   \n",
       "12352        0.196948  -0.415278  1.807503  1.221162 -0.946808 -0.869562   \n",
       "\n",
       "                 PC43      PC44      PC45      PC46      PC47      PC48  \\\n",
       "CustomerID                                                                \n",
       "12347       10.600410  1.241669  3.095624  5.331731 -0.417450  1.527353   \n",
       "12348        1.212702 -0.199148 -0.861671 -0.067365 -0.417001 -1.614081   \n",
       "12349       -0.162106  0.704347  1.397955 -0.256310 -0.132071 -0.193963   \n",
       "12350        0.283305  0.514181 -0.522224 -0.102391 -1.468632  0.153130   \n",
       "12352       -1.125108 -0.087796 -0.880610 -2.234063 -1.615460 -1.444537   \n",
       "\n",
       "                PC49      PC50    ...         PC76      PC77      PC78  \\\n",
       "CustomerID                        ...                                    \n",
       "12347      -6.409488  3.056646    ...     2.311696  2.528281 -1.020094   \n",
       "12348      -0.364249  0.454946    ...    -1.003771 -0.888863 -0.530779   \n",
       "12349       0.844302  1.671131    ...     2.024681 -0.915472  1.982239   \n",
       "12350       0.137853 -0.668825    ...     1.587680 -0.312834  0.538319   \n",
       "12352       0.989681  0.305116    ...     1.293374 -0.147521  2.528921   \n",
       "\n",
       "                PC79      PC80      PC81      PC82      PC83      PC84  \\\n",
       "CustomerID                                                               \n",
       "12347      -1.826817 -1.782002  1.250666  0.268078 -1.713217  1.675448   \n",
       "12348      -0.277437  0.036027  0.129662 -0.561206 -0.394906 -0.629814   \n",
       "12349       0.634441  0.648187  0.191702 -1.109805  1.052615 -1.183430   \n",
       "12350       0.498120 -0.379276 -0.143061 -1.631847  0.265585 -0.821109   \n",
       "12352      -3.247448  0.605011  0.353734 -0.785340  2.508960  0.008842   \n",
       "\n",
       "                PC85      PC86      PC87      PC88      PC89      PC90  \\\n",
       "CustomerID                                                               \n",
       "12347      -3.594813  0.524752 -1.873924  0.624251  0.238212  1.119833   \n",
       "12348       0.319792  0.236758  0.148990 -1.854245  0.124591 -0.416596   \n",
       "12349      -0.544985  1.395267  1.571042 -2.602249 -2.140487  1.167780   \n",
       "12350       0.065793  0.352553 -0.098971 -0.238175 -0.239312 -0.616223   \n",
       "12352      -2.355360 -2.509794  2.113315  0.605477 -5.850830 -1.172350   \n",
       "\n",
       "                PC91      PC92      PC93      PC94      PC95      PC96  \\\n",
       "CustomerID                                                               \n",
       "12347      -1.800831  0.666073  0.233571 -0.150078  0.842559 -0.364235   \n",
       "12348      -0.741901  0.207915  0.994749 -0.156038  1.087600  0.081404   \n",
       "12349      -2.044468 -2.057936 -2.018433 -1.913184 -1.861216 -0.138171   \n",
       "12350       0.135915  0.128470 -0.327748 -0.030588  0.925032  0.700086   \n",
       "12352      -4.392767 -4.341841 -0.346239 -1.995074 -6.938529 -1.357680   \n",
       "\n",
       "                PC97      PC98      PC99     PC100     PC101      PC102  \\\n",
       "CustomerID                                                                \n",
       "12347      -0.573426 -0.062462  0.622033  0.037471 -0.811016   1.602420   \n",
       "12348       0.413462  1.287041  1.002995 -0.653275  0.790626  -0.720898   \n",
       "12349      -1.027463  1.863885  0.085432  0.376080  1.989101  -1.386937   \n",
       "12350      -0.469803 -0.465706 -0.424701 -0.413837 -0.475980  -0.072629   \n",
       "12352      -0.771951 -5.746568  5.445534  5.885039 -4.315133  12.602361   \n",
       "\n",
       "               PC103     PC104     PC105      PC106     PC107     PC108  \\\n",
       "CustomerID                                                                \n",
       "12347       0.104307 -0.153327 -0.251323   0.410751 -0.485748 -0.138471   \n",
       "12348      -0.457527 -1.722533 -1.502235   1.066439 -0.696565  2.011565   \n",
       "12349      -1.450922  2.876608 -1.125522  -0.047045 -2.985383  2.003770   \n",
       "12350       0.003003 -0.306798  0.746092  -0.097780  0.009038 -0.941828   \n",
       "12352      -1.297988  8.605877  0.545145  19.256035  2.775318 -9.282485   \n",
       "\n",
       "               PC109     PC110      PC111      PC112     PC113     PC114  \\\n",
       "CustomerID                                                                 \n",
       "12347       1.202081  0.414028   0.565478  -0.655107  1.073001 -0.057048   \n",
       "12348      -0.602318 -0.767082  -0.245528   0.569452 -0.933205  1.556439   \n",
       "12349       0.914071 -1.002057  -0.012691   2.621160 -2.022646 -0.626575   \n",
       "12350      -0.972072  0.089459  -0.500449  -0.877688 -0.115300 -0.946837   \n",
       "12352      -4.181716  5.703884  15.600565 -12.005130  6.062909  1.765898   \n",
       "\n",
       "               PC115     PC116     PC117      PC118     PC119     PC120  \\\n",
       "CustomerID                                                                \n",
       "12347       0.240346 -0.007766 -0.779199   0.613359 -0.330509 -0.004962   \n",
       "12348      -1.138468 -1.904435  0.075644  -0.955823  1.409611  0.724342   \n",
       "12349       0.658062  4.595645 -4.527504  -2.370799 -3.396166 -3.419379   \n",
       "12350      -0.832407 -1.869817 -0.460085  -1.192275 -0.596812 -0.808693   \n",
       "12352      -0.423339  1.695937  8.096258  10.325739 -8.947321 -3.582689   \n",
       "\n",
       "               PC121     PC122     PC123     PC124     PC125  \n",
       "CustomerID                                                    \n",
       "12347      -0.045697  0.148163 -0.061750 -0.198612 -0.269058  \n",
       "12348       0.464916  1.907702 -1.416770  1.121250 -2.946993  \n",
       "12349      -1.304617  3.845541  0.807568 -4.652684  2.594639  \n",
       "12350       0.373854 -0.282510 -0.819361 -1.010051  0.363232  \n",
       "12352      -2.078227  3.346192  5.183793  0.928319 -1.933235  \n",
       "\n",
       "[5 rows x 125 columns]"
      ]
     },
     "execution_count": 24,
     "metadata": {},
     "output_type": "execute_result"
    }
   ],
   "source": [
    "# Put PC_items into a dataframe\n",
    "items_pca = pd.DataFrame(PC_items)\n",
    "\n",
    "# Name the columns\n",
    "items_pca.columns = ['PC{}'.format(i + 1) for i in range(PC_items.shape[1])]\n",
    "\n",
    "# Update its index\n",
    "items_pca.index = item_data.index\n",
    "\n",
    "# Display first 5 rows\n",
    "items_pca.head()"
   ]
  },
  {
   "cell_type": "markdown",
   "metadata": {},
   "source": [
    "**Finally, save this item dataframe with PCA features as <code style=\"color:crimson\">'pca_item_data.csv'</code>.**\n",
    "* In <span style=\"color:royalblue\">Module 4</span>, we'll compare the clusters made from using these features against those in <code style=\"color:crimson\">'threshold_item_data.csv'</code>.\n",
    "* Do **not** set <code style=\"color:steelblue\">index=None</code> because we want to keep the CustomerID's as the index."
   ]
  },
  {
   "cell_type": "code",
   "execution_count": 25,
   "metadata": {
    "collapsed": true
   },
   "outputs": [],
   "source": [
    "# Save pca_item_data.csv\n",
    "items_pca.to_csv('pca_item_data.csv')"
   ]
  },
  {
   "cell_type": "markdown",
   "metadata": {},
   "source": [
    "<p style=\"text-align:center; margin: 40px 0 40px 0; font-weight:bold\">\n",
    "<a href=\"#toc\">Back to Contents</a>\n",
    "</p>"
   ]
  },
  {
   "cell_type": "markdown",
   "metadata": {},
   "source": [
    "<br>\n",
    "## Next Steps\n",
    "\n",
    "Congratulations for making it through Project 4's Principal Component Analysis!\n",
    "\n",
    "As a reminder, here are a few things you did in this module:\n",
    "* You saw how PCA works on an oval blob.\n",
    "* You contrasted plots of the original features against plots of the principal component features.\n",
    "* You learned how to intepret cumulative explained variance.\n",
    "* And you reduced the dimensionality of the item dataset using PCA.\n",
    "\n",
    "In the next module, <span style=\"color:royalblue\">Module 4: Cluster Analysis</span>, we'll see how different feature sets lead to different clusters. We'll apply K-Means clustering to the analytical base table, the threshold item features, and the PCA item features.\n",
    "\n",
    "<p style=\"text-align:center; margin: 40px 0 40px 0; font-weight:bold\">\n",
    "<a href=\"#toc\">Back to Contents</a>\n",
    "</p>"
   ]
  }
 ],
 "metadata": {
  "kernelspec": {
   "display_name": "Python 3",
   "language": "python",
   "name": "python3"
  },
  "language_info": {
   "codemirror_mode": {
    "name": "ipython",
    "version": 3
   },
   "file_extension": ".py",
   "mimetype": "text/x-python",
   "name": "python",
   "nbconvert_exporter": "python",
   "pygments_lexer": "ipython3",
   "version": "3.6.2"
  }
 },
 "nbformat": 4,
 "nbformat_minor": 1
}
