{
 "cells": [
  {
   "cell_type": "markdown",
   "metadata": {},
   "source": [
    "## Python Implementation of ex1 - Supervised Learning Linear Regression"
   ]
  },
  {
   "cell_type": "code",
   "execution_count": 2,
   "metadata": {
    "collapsed": true
   },
   "outputs": [],
   "source": [
    "import numpy as np\n",
    "import matplotlib.pyplot as plt\n",
    "import pandas as pd"
   ]
  },
  {
   "cell_type": "code",
   "execution_count": 3,
   "metadata": {
    "scrolled": true
   },
   "outputs": [
    {
     "name": "stdout",
     "output_type": "stream",
     "text": [
      "['6.1101,17.592', '5.5277,9.1302', '8.5186,13.662', '7.0032,11.854', '5.8598,6.8233', '8.3829,11.886', '7.4764,4.3483', '8.5781,12', '6.4862,6.5987', '5.0546,3.8166', '5.7107,3.2522', '14.164,15.505', '5.734,3.1551', '8.4084,7.2258', '5.6407,0.71618', '5.3794,3.5129', '6.3654,5.3048', '5.1301,0.56077', '6.4296,3.6518', '7.0708,5.3893', '6.1891,3.1386', '20.27,21.767', '5.4901,4.263', '6.3261,5.1875', '5.5649,3.0825', '18.945,22.638', '12.828,13.501', '10.957,7.0467', '13.176,14.692', '22.203,24.147', '5.2524,-1.22', '6.5894,5.9966', '9.2482,12.134', '5.8918,1.8495', '8.2111,6.5426', '7.9334,4.5623', '8.0959,4.1164', '5.6063,3.3928', '12.836,10.117', '6.3534,5.4974', '5.4069,0.55657', '6.8825,3.9115', '11.708,5.3854', '5.7737,2.4406', '7.8247,6.7318', '7.0931,1.0463', '5.0702,5.1337', '5.8014,1.844', '11.7,8.0043', '5.5416,1.0179', '7.5402,6.7504', '5.3077,1.8396', '7.4239,4.2885', '7.6031,4.9981', '6.3328,1.4233', '6.3589,-1.4211', '6.2742,2.4756', '5.6397,4.6042', '9.3102,3.9624', '9.4536,5.4141', '8.8254,5.1694', '5.1793,-0.74279', '21.279,17.929', '14.908,12.054', '18.959,17.054', '7.2182,4.8852', '8.2951,5.7442', '10.236,7.7754', '5.4994,1.0173', '20.341,20.992', '10.136,6.6799', '7.3345,4.0259', '6.0062,1.2784', '7.2259,3.3411', '5.0269,-2.6807', '6.5479,0.29678', '7.5386,3.8845', '5.0365,5.7014', '10.274,6.7526', '5.1077,2.0576', '5.7292,0.47953', '5.1884,0.20421', '6.3557,0.67861', '9.7687,7.5435', '6.5159,5.3436', '8.5172,4.2415', '9.1802,6.7981', '6.002,0.92695', '5.5204,0.152', '5.0594,2.8214', '5.7077,1.8451', '7.6366,4.2959', '5.8707,7.2029', '5.3054,1.9869', '8.2934,0.14454', '13.394,9.0551', '5.4369,0.61705']\n"
     ]
    }
   ],
   "source": [
    "# Reading the data for ex1\n",
    "f = open('ex1data1.txt', mode='r')\n",
    "data = f.read()\n",
    "data = data.split('\\n')\n",
    "data = data[:len(data) - 1]\n",
    "print(data)"
   ]
  },
  {
   "cell_type": "code",
   "execution_count": 4,
   "metadata": {
    "collapsed": true
   },
   "outputs": [],
   "source": [
    "# Assign X and y values\n",
    "X = []\n",
    "y = []\n",
    "for i in data:\n",
    "    temp = i.split(',')\n",
    "    temp[0] = float(temp[0])\n",
    "    temp[1] = float(temp[1])\n",
    "    X.append(temp[0])\n",
    "    y.append(temp[1])"
   ]
  },
  {
   "cell_type": "code",
   "execution_count": 5,
   "metadata": {},
   "outputs": [
    {
     "data": {
      "image/png": "[encoded data removed]",
      "text/plain": [
       "<matplotlib.figure.Figure at 0x113a80b00>"
      ]
     },
     "metadata": {},
     "output_type": "display_data"
    }
   ],
   "source": [
    "# Plot the training set data\n",
    "plt.scatter(X, y, marker='x', c='r')\n",
    "plt.xlim(4, 24)\n",
    "plt.ylim(-5, 25)\n",
    "plt.xlabel('Population Size in 10000s')\n",
    "plt.ylabel('Profit in $10000s')\n",
    "plt.show()"
   ]
  },
  {
   "cell_type": "code",
   "execution_count": 6,
   "metadata": {},
   "outputs": [
    {
     "name": "stdout",
     "output_type": "stream",
     "text": [
      "[[  1.       6.1101]\n",
      " [  1.       5.5277]\n",
      " [  1.       8.5186]\n",
      " [  1.       7.0032]\n",
      " [  1.       5.8598]\n",
      " [  1.       8.3829]\n",
      " [  1.       7.4764]\n",
      " [  1.       8.5781]\n",
      " [  1.       6.4862]\n",
      " [  1.       5.0546]\n",
      " [  1.       5.7107]\n",
      " [  1.      14.164 ]\n",
      " [  1.       5.734 ]\n",
      " [  1.       8.4084]\n",
      " [  1.       5.6407]\n",
      " [  1.       5.3794]\n",
      " [  1.       6.3654]\n",
      " [  1.       5.1301]\n",
      " [  1.       6.4296]\n",
      " [  1.       7.0708]\n",
      " [  1.       6.1891]\n",
      " [  1.      20.27  ]\n",
      " [  1.       5.4901]\n",
      " [  1.       6.3261]\n",
      " [  1.       5.5649]\n",
      " [  1.      18.945 ]\n",
      " [  1.      12.828 ]\n",
      " [  1.      10.957 ]\n",
      " [  1.      13.176 ]\n",
      " [  1.      22.203 ]\n",
      " [  1.       5.2524]\n",
      " [  1.       6.5894]\n",
      " [  1.       9.2482]\n",
      " [  1.       5.8918]\n",
      " [  1.       8.2111]\n",
      " [  1.       7.9334]\n",
      " [  1.       8.0959]\n",
      " [  1.       5.6063]\n",
      " [  1.      12.836 ]\n",
      " [  1.       6.3534]\n",
      " [  1.       5.4069]\n",
      " [  1.       6.8825]\n",
      " [  1.      11.708 ]\n",
      " [  1.       5.7737]\n",
      " [  1.       7.8247]\n",
      " [  1.       7.0931]\n",
      " [  1.       5.0702]\n",
      " [  1.       5.8014]\n",
      " [  1.      11.7   ]\n",
      " [  1.       5.5416]\n",
      " [  1.       7.5402]\n",
      " [  1.       5.3077]\n",
      " [  1.       7.4239]\n",
      " [  1.       7.6031]\n",
      " [  1.       6.3328]\n",
      " [  1.       6.3589]\n",
      " [  1.       6.2742]\n",
      " [  1.       5.6397]\n",
      " [  1.       9.3102]\n",
      " [  1.       9.4536]\n",
      " [  1.       8.8254]\n",
      " [  1.       5.1793]\n",
      " [  1.      21.279 ]\n",
      " [  1.      14.908 ]\n",
      " [  1.      18.959 ]\n",
      " [  1.       7.2182]\n",
      " [  1.       8.2951]\n",
      " [  1.      10.236 ]\n",
      " [  1.       5.4994]\n",
      " [  1.      20.341 ]\n",
      " [  1.      10.136 ]\n",
      " [  1.       7.3345]\n",
      " [  1.       6.0062]\n",
      " [  1.       7.2259]\n",
      " [  1.       5.0269]\n",
      " [  1.       6.5479]\n",
      " [  1.       7.5386]\n",
      " [  1.       5.0365]\n",
      " [  1.      10.274 ]\n",
      " [  1.       5.1077]\n",
      " [  1.       5.7292]\n",
      " [  1.       5.1884]\n",
      " [  1.       6.3557]\n",
      " [  1.       9.7687]\n",
      " [  1.       6.5159]\n",
      " [  1.       8.5172]\n",
      " [  1.       9.1802]\n",
      " [  1.       6.002 ]\n",
      " [  1.       5.5204]\n",
      " [  1.       5.0594]\n",
      " [  1.       5.7077]\n",
      " [  1.       7.6366]\n",
      " [  1.       5.8707]\n",
      " [  1.       5.3054]\n",
      " [  1.       8.2934]\n",
      " [  1.      13.394 ]\n",
      " [  1.       5.4369]]\n"
     ]
    }
   ],
   "source": [
    "# Adding the ones column (X0) to X\n",
    "X = np.matrix(X)\n",
    "X = np.transpose(X)\n",
    "ones_col = np.transpose(np.matrix(np.ones(np.shape(X)[0])))\n",
    "X = np.concatenate((ones_col, X), axis=1)\n",
    "print(X)"
   ]
  },
  {
   "cell_type": "code",
   "execution_count": 7,
   "metadata": {
    "collapsed": true
   },
   "outputs": [],
   "source": [
    "# Initialize theta value\n",
    "theta = np.matrix(np.zeros((2, 1)))"
   ]
  },
  {
   "cell_type": "code",
   "execution_count": 8,
   "metadata": {
    "collapsed": true
   },
   "outputs": [],
   "source": [
    "# Some gradient descent settings\n",
    "iterations = 1500\n",
    "alpha = 0.01"
   ]
  },
  {
   "cell_type": "code",
   "execution_count": 9,
   "metadata": {
    "collapsed": true
   },
   "outputs": [],
   "source": [
    "# Defining the cost function\n",
    "def computeCost(X, y, theta):\n",
    "    m = np.shape(y)[0]\n",
    "    J = 0\n",
    "    for i in range(m):\n",
    "        J += (np.dot(X[i, :], theta) - y[i]) ** 2\n",
    "    J = J/2/m\n",
    "    return J"
   ]
  },
  {
   "cell_type": "code",
   "execution_count": 10,
   "metadata": {},
   "outputs": [
    {
     "name": "stdout",
     "output_type": "stream",
     "text": [
      "\n",
      "Testing the cost function ...\n",
      "\n",
      "With theta = [0 ; 0]\n",
      "Cost computed =  32.072733877455654\n",
      "Expected cost value (approx) 32.07\n",
      "\n"
     ]
    }
   ],
   "source": [
    "print('\\nTesting the cost function ...\\n')\n",
    "# Compute and display initial cost\n",
    "J = computeCost(X, y, theta)\n",
    "print('With theta = [0 ; 0]\\nCost computed = ', J.item(0, 0));\n",
    "print('Expected cost value (approx) 32.07\\n');"
   ]
  },
  {
   "cell_type": "code",
   "execution_count": 11,
   "metadata": {},
   "outputs": [
    {
     "name": "stdout",
     "output_type": "stream",
     "text": [
      "\n",
      "With theta = [-1 ; 2]\n",
      "Cost computed =  54.24245508201238\n",
      "Expected cost value (approx) 54.24\n",
      "\n"
     ]
    }
   ],
   "source": [
    "# further testing of the cost function\n",
    "J = computeCost(X, y, np.matrix('-1; 2'));\n",
    "print('\\nWith theta = [-1 ; 2]\\nCost computed = ', J.item(0, 0));\n",
    "print('Expected cost value (approx) 54.24\\n');"
   ]
  },
  {
   "cell_type": "code",
   "execution_count": 12,
   "metadata": {
    "collapsed": true
   },
   "outputs": [],
   "source": [
    "# Defining the function to perform gradient descent\n",
    "def gradientDescent(X, y, theta, alpha, num_iters):\n",
    "    m = np.shape(y)[0]\n",
    "    J_history = []\n",
    "    for iter in range(num_iters):\n",
    "        delta = np.dot((np.dot(np.transpose(theta), np.transpose(X)) - np.transpose(y)), X)\n",
    "        delta = np.transpose(delta)\n",
    "        theta = theta - (alpha / m) * delta\n",
    "        J_history.append(computeCost(X, y, theta).item(0, 0))\n",
    "    output_dict = {\n",
    "        'theta': theta,\n",
    "        'J_history': J_history\n",
    "    }\n",
    "    return output_dict"
   ]
  },
  {
   "cell_type": "code",
   "execution_count": 14,
   "metadata": {},
   "outputs": [
    {
     "name": "stdout",
     "output_type": "stream",
     "text": [
      "Theta found by gradient descent:\n",
      " -3.878051175050171 \n",
      " 1.1912525031860843\n",
      "Expected theta values (approx)\n",
      " -3.6303\n",
      "  1.1664\n",
      "\n",
      "\n"
     ]
    }
   ],
   "source": [
    "# run gradient descent\n",
    "output = gradientDescent(X, y, theta, alpha, iterations);\n",
    "theta = output['theta']\n",
    "\n",
    "# print theta to screen\n",
    "print('Theta found by gradient descent:\\n', theta.item(0), '\\n', theta.item(1));\n",
    "print('Expected theta values (approx)');\n",
    "print(' -3.6303\\n  1.1664\\n\\n');"
   ]
  }
 ],
 "metadata": {
  "kernelspec": {
   "display_name": "Python 3",
   "language": "python",
   "name": "python3"
  },
  "language_info": {
   "codemirror_mode": {
    "name": "ipython",
    "version": 3
   },
   "file_extension": ".py",
   "mimetype": "text/x-python",
   "name": "python",
   "nbconvert_exporter": "python",
   "pygments_lexer": "ipython3",
   "version": "3.6.2"
  }
 },
 "nbformat": 4,
 "nbformat_minor": 2
}
